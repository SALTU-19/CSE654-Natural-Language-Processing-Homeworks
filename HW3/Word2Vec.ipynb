{
 "cells": [
  {
   "cell_type": "code",
   "execution_count": 19,
   "metadata": {},
   "outputs": [],
   "source": [
    "#include libraries\n",
    "import re\n",
    "import numpy as np\n",
    "from scipy.sparse import csc_matrix\n",
    "from syllable import Encoder\n",
    "import math\n",
    "from nltk.tokenize import sent_tokenize, word_tokenize\n",
    "import warnings\n",
    " \n",
    "warnings.filterwarnings(action = 'ignore')\n",
    " \n",
    "import gensim\n",
    "from gensim.models import Word2Vec\n",
    "import multiprocessing"
   ]
  },
  {
   "cell_type": "code",
   "execution_count": 20,
   "metadata": {},
   "outputs": [],
   "source": [
    "#generate ngrams function\n",
    "def generate_ngrams(s, n):\n",
    "    # Convert to lowercases\n",
    "    s = s.lower()\n",
    "\n",
    "    # Replace all none alphanumeric characters with spaces\n",
    "    s = re.sub(r'[^a-zA-Z0-9\\s]', ' ', s)\n",
    "\n",
    "    # Break sentence in the token, remove empty tokens\n",
    "    tokens = [token for token in s.split(\" \") if token != \"\"]\n",
    "\n",
    "    # Use the zip function to help us generate n-grams\n",
    "    # Concatentate the tokens into ngrams and return\n",
    "    ngrams = zip(*[tokens[i:] for i in range(n)])\n",
    "    return [\" \".join(ngram) for ngram in ngrams]"
   ]
  },
  {
   "cell_type": "code",
   "execution_count": 21,
   "metadata": {},
   "outputs": [],
   "source": [
    "# convert turkish letters to english letters\n",
    "def turkish_to_english(string):\n",
    "    choices = {\"İ\": \"I\", \"ş\": \"s\", \"Ş\": \"S\", \"ı\": \"i\", \"ö\": \"o\", \"ü\": \"u\", \"ç\": \"c\", \"ğ\": \"g\", \"Ç\": \"C\", \"Ö\": \"O\", \"Ü\": \"U\", \"Ğ\": \"G\", \"â\": \"a\", \"î\": \"i\", \"û\": \"u\", \"ê\": \"e\", \"ô\": \"o\", \"Â\": \"A\", \"Î\": \"I\", \"Û\": \"U\", \"Ê\": \"E\", \"Ô\": \"O\", \"â\": \"a\", \"î\": \"i\", \"û\": \"u\", \"ê\": \"e\", \"ô\": \"o\", \"Â\": \"A\", \"Î\": \"I\", \"Û\": \"U\", \"Ê\": \"E\", \"Ô\": \"O\", \"â\": \"a\", \"î\": \"i\", \"û\": \"u\",\n",
    "               \"ê\": \"e\", \"ô\": \"o\", \"Â\": \"A\", \"Î\": \"I\", \"Û\": \"U\", \"Ê\": \"E\", \"Ô\": \"O\", \"â\": \"a\", \"î\": \"i\", \"û\": \"u\", \"ê\": \"e\", \"ô\": \"o\", \"Â\": \"A\", \"Î\": \"I\", \"Û\": \"U\", \"Ê\": \"E\", \"Ô\": \"O\", \"â\": \"a\", \"î\": \"i\", \"û\": \"u\", \"ê\": \"e\", \"ô\": \"o\", \"Â\": \"A\", \"Î\": \"I\", \"Û\": \"U\", \"Ê\": \"E\", \"Ô\": \"O\", \"â\": \"a\", \"î\": \"i\", \"û\": \"u\", \"ê\": \"e\", \"ô\": \"o\", \"Â\": \"A\", \"Î\": \"I\", \"Û\": \"U\"}\n",
    "    for i in range(len(string)):\n",
    "        string = string.replace(\n",
    "            string[i:i+1], choices.get(string[i], string[i]))\n",
    "    return string"
   ]
  },
  {
   "cell_type": "code",
   "execution_count": 22,
   "metadata": {},
   "outputs": [],
   "source": [
    "# parse string into syllables\n",
    "consonant = [\"b\", \"c\", \"d\", \"g\", \"ğ\", \"j\", \"l\", \"m\", \"n\", \"r\",\n",
    "             \"v\", \"y\", \"z\", \"ç\", \"f\", \"h\", \"k\", \"p\", \"s\", \"ş\", \"t\"]\n",
    "vowel = [\"a\", \"ı\", \"o\", \"u\", \"e\", \"i\", \"ö\", \"ü\"]\n",
    "\n",
    "# params chosen for demonstration purposes\n",
    "encoder = Encoder(lang=\"tr\", limitby=\"vocabulary\", limit=3000)\n",
    "\n",
    "def parse_syllable(string):\n",
    "    string = turkish_to_english(string)\n",
    "    return encoder.tokenize(string)"
   ]
  },
  {
   "cell_type": "code",
   "execution_count": 23,
   "metadata": {},
   "outputs": [],
   "source": [
    "def parse_string_two(string):\n",
    "    return string.split(\" \")[1]\n",
    "def parse_string_three(string):\n",
    "    return string.split(\" \")[2]"
   ]
  },
  {
   "cell_type": "code",
   "execution_count": 24,
   "metadata": {},
   "outputs": [],
   "source": [
    "def count_element_matrix(sparse_matrix, element):\n",
    "    count = 0\n",
    "    for i in sparse_matrix.data:\n",
    "        if(i == element):\n",
    "            count += 1\n",
    "    return count"
   ]
  },
  {
   "cell_type": "code",
   "execution_count": 25,
   "metadata": {},
   "outputs": [],
   "source": [
    "def good_turing_smooting(ngram_matrix, ngrams, unique_ngrams):\n",
    "    gt_smooth = np.zeros((len(unique_ngrams), len(unique_ngrams)))\n",
    "    sparse_matrix = csc_matrix(ngram_matrix)\n",
    "    count_one = count_element_matrix(sparse_matrix, 1)\n",
    "    # calculate good turing smoothing\n",
    "    for i in range(len(ngram_matrix)):\n",
    "        for j in range(len(ngram_matrix[i])):\n",
    "            if(ngram_matrix[i][j] == 0):\n",
    "                gt_smooth[i][j] = count_one / len(ngrams)\n",
    "            else:\n",
    "                gt_smooth[i][j] = (ngram_matrix[i][j]+1) * \\\n",
    "                    count_element_matrix(sparse_matrix, ngram_matrix[i][j]+1) / \\\n",
    "                    count_element_matrix(sparse_matrix, ngram_matrix[i][j])\n",
    "    return gt_smooth"
   ]
  },
  {
   "cell_type": "code",
   "execution_count": 26,
   "metadata": {},
   "outputs": [],
   "source": [
    "def generate_bigram_matrix(unique_bigrams, bigrams):\n",
    "    bigram_matrix = np.zeros((len(unique_bigrams), len(unique_bigrams)))\n",
    "    for i in range(len(bigrams)-1):\n",
    "        bigram_matrix[unique_bigrams.index(\n",
    "            bigrams[i])][unique_bigrams.index(bigrams[i+1])] += 1\n",
    "    gt_smooth = good_turing_smooting(bigram_matrix, bigrams, unique_bigrams)\n",
    "    return gt_smooth"
   ]
  },
  {
   "cell_type": "code",
   "execution_count": 27,
   "metadata": {},
   "outputs": [],
   "source": [
    "def generate_towgram_matrix(unique_towgrams, towgrams, unique_bigrams):\n",
    "    towgram_matrix = np.zeros((len(unique_towgrams), len(unique_bigrams)))\n",
    "    for i in range(len(towgrams)-1):\n",
    "        towgram_matrix[unique_towgrams.index(\n",
    "            towgrams[i])][unique_bigrams.index(parse_string_two(towgrams[i+1]))] += 1\n",
    "\n",
    "    gt_smooth = good_turing_smooting(towgram_matrix, towgrams, unique_towgrams)\n",
    "    return gt_smooth"
   ]
  },
  {
   "cell_type": "code",
   "execution_count": 28,
   "metadata": {},
   "outputs": [],
   "source": [
    "def generate_threegram_matrix(unique_threegrams, threegrams, unique_bigrams):\n",
    "    threegram_matrix = np.zeros((len(unique_threegrams), len(unique_bigrams)))\n",
    "    for i in range(len(threegrams)-1):\n",
    "        threegram_matrix[unique_threegrams.index(\n",
    "            threegrams[i])][unique_bigrams.index(parse_string_three(threegrams[i+1]))] += 1\n",
    "\n",
    "    gt_smoothing = good_turing_smooting(\n",
    "        threegram_matrix, threegrams, unique_threegrams)\n",
    "    return gt_smoothing"
   ]
  },
  {
   "cell_type": "code",
   "execution_count": 30,
   "metadata": {},
   "outputs": [],
   "source": [
    "filename = input(\"Enter the file name: \")\n",
    "\n",
    "#  Reads file\n",
    "sample = open(filename, mode=\"r\", encoding=\"utf-8\")\n",
    "s = sample.read()\n",
    "\n",
    "# Replaces escape character with space\n",
    "f = s.replace(\"\\n\", \" \")"
   ]
  },
  {
   "cell_type": "code",
   "execution_count": 12,
   "metadata": {},
   "outputs": [],
   "source": [
    "#training text for 1-gram\n",
    "uni_sentences = []\n",
    "cores = multiprocessing.cpu_count()\n",
    "\n",
    "# iterate through each sentence in the file\n",
    "for i in sent_tokenize(f):\n",
    "    temp = []\n",
    "\n",
    "    # tokenize the sentence into words\n",
    "    for j in word_tokenize(i):\n",
    "        parsed_words = parse_syllable(j.lower())\n",
    "        unigram = generate_ngrams(parsed_words, 1)\n",
    "        for i in unigram:\n",
    "            temp.append(i)\n",
    "\n",
    "    uni_sentences.append(temp)\n",
    "    \n",
    "\n",
    "unigram_w2v_model = Word2Vec(min_count=20,\n",
    "                 window=2,\n",
    "                 sample=6e-5, \n",
    "                 alpha=0.03, \n",
    "                 min_alpha=0.0007, \n",
    "                 negative=20,\n",
    "                 workers=cores-1)\n",
    "unigram_w2v_model.build_vocab(uni_sentences, progress_per=10000)\n",
    "\n",
    "unigram_w2v_model.train(uni_sentences, total_examples=unigram_w2v_model.corpus_count, epochs=30, report_delay=1)   \n",
    "\n",
    "unigram_w2v_model.init_sims(replace=True)   \n",
    "unigram_w2v_model.wv.save_word2vec_format('model1.txt', binary=False)"
   ]
  },
  {
   "cell_type": "code",
   "execution_count": 13,
   "metadata": {},
   "outputs": [],
   "source": [
    "#training text for 2-gram\n",
    "two_sentences = []\n",
    "cores = multiprocessing.cpu_count()\n",
    "\n",
    "# iterate through each sentence in the file\n",
    "for i in sent_tokenize(f):\n",
    "    temp = []\n",
    "\n",
    "    # tokenize the sentence into words\n",
    "    for j in word_tokenize(i):\n",
    "        parsed_words = parse_syllable(j.lower())\n",
    "        twogram = generate_ngrams(parsed_words, 2)\n",
    "        for i in twogram:\n",
    "            temp.append(i)\n",
    "\n",
    "    two_sentences.append(temp)\n",
    "\n",
    "twogram_w2v_model = Word2Vec(min_count=20,\n",
    "                 window=2,\n",
    "                 sample=6e-5, \n",
    "                 alpha=0.03, \n",
    "                 min_alpha=0.0007, \n",
    "                 negative=20,\n",
    "                 workers=cores-1)\n",
    "twogram_w2v_model.build_vocab(two_sentences, progress_per=10000)\n",
    "\n",
    "twogram_w2v_model.train(two_sentences, total_examples=twogram_w2v_model.corpus_count, epochs=30, report_delay=1)   \n",
    "\n",
    "twogram_w2v_model.init_sims(replace=True)   \n",
    "twogram_w2v_model.wv.save_word2vec_format('model2.txt', binary=False) "
   ]
  },
  {
   "cell_type": "code",
   "execution_count": 14,
   "metadata": {},
   "outputs": [],
   "source": [
    "#training text for 3-gram\n",
    "three_sentences = []\n",
    "cores = multiprocessing.cpu_count()\n",
    "\n",
    "# iterate through each sentence in the file\n",
    "for i in sent_tokenize(f):\n",
    "    temp = []\n",
    "\n",
    "    # tokenize the sentence into words\n",
    "    for j in word_tokenize(i):\n",
    "        parsed_words = parse_syllable(j.lower())\n",
    "        threegram = generate_ngrams(parsed_words, 3)\n",
    "        for i in threegram:\n",
    "            temp.append(i)\n",
    "\n",
    "    three_sentences.append(temp)\n",
    "    \n",
    "threegram_w2v_model = Word2Vec(min_count=20,\n",
    "                 window=2,\n",
    "                 sample=6e-5, \n",
    "                 alpha=0.03, \n",
    "                 min_alpha=0.0007, \n",
    "                 negative=20,\n",
    "                 workers=cores-1)\n",
    "threegram_w2v_model.build_vocab(three_sentences, progress_per=10000)\n",
    "\n",
    "threegram_w2v_model.train(three_sentences, total_examples=threegram_w2v_model.corpus_count, epochs=30, report_delay=1)   \n",
    "\n",
    "threegram_w2v_model.init_sims(replace=True)\n",
    "threegram_w2v_model.wv.save_word2vec_format('model3.txt', binary=False)\n"
   ]
  },
  {
   "cell_type": "code",
   "execution_count": 15,
   "metadata": {},
   "outputs": [],
   "source": [
    "def test_most_similar_unigram():\n",
    "    print(\"Most similar 1-gram words of 'ri': \")\n",
    "    print(unigram_w2v_model.wv.most_similar(positive=[\"ri\"]))\n",
    "def  test_most_similar_twogram():\n",
    "    print(\"Most similar 2-gram words of 'le ri': \")\n",
    "    print(twogram_w2v_model.wv.most_similar(positive=[\"le ri\"]))\n",
    "def  test_most_similar_threegram():\n",
    "    print(\"Most similar 3-gram words of 'le ri ni': \")\n",
    "    print(threegram_w2v_model.wv.most_similar(positive=[\"le ri ni\"])) "
   ]
  },
  {
   "cell_type": "code",
   "execution_count": 16,
   "metadata": {},
   "outputs": [],
   "source": [
    "def test_morf_analogy_unigram():\n",
    "    print(\"Similarity between 'ri' and 'rin' for 1-gram words: \")\n",
    "    print(unigram_w2v_model.wv.similarity(\"le\", 'len'))\n",
    "    print(\"Similarity between 'ni' and 'nin' for 1-gram words: \")\n",
    "    print(unigram_w2v_model.wv.similarity(\"la\", 'lan'))\n",
    "def  test_morf_analogy_twogram():\n",
    "    print(\"Similarity between 'le ri' and 'le rin' for 2-gram words: \")\n",
    "    print(twogram_w2v_model.wv.similarity(\"le ri\", 'le rin'))\n",
    "    print(\"Similarity between 'la ri' and 'la rin' for 2-gram words: \")\n",
    "    print(twogram_w2v_model.wv.similarity(\"la ri\", 'la rin'))\n",
    "def  test_morf_analogy_threegram():\n",
    "    print(\"Similarity between 'le ri ni' and 'le ri nin' for 3-gram words: \")\n",
    "    print(threegram_w2v_model.wv.similarity(\"le ri ni\", 'le ri nin'))\n",
    "    print(\"Similarity between 'la ri ni' and 'la ri nin' for 3-gram words: \")\n",
    "    print(threegram_w2v_model.wv.similarity(\"la ri ni\", 'la ri nin')) "
   ]
  },
  {
   "cell_type": "code",
   "execution_count": 17,
   "metadata": {},
   "outputs": [
    {
     "name": "stdout",
     "output_type": "stream",
     "text": [
      "Most similar 1-gram words of 'ri': \n",
      "[('ve', 0.5166339874267578), ('rin', 0.5153515338897705), ('riy', 0.4740566611289978), ('nin', 0.4531644284725189), ('bir', 0.42421960830688477), ('le', 0.40507903695106506), ('ler', 0.38981080055236816), ('ni', 0.36597421765327454), ('re', 0.3542775511741638), ('ye', 0.3479315936565399)]\n",
      "-------------------\n",
      "Most similar 2-gram words of 'le ri': \n",
      "[('le rin', 0.7796775698661804), ('le re', 0.7353426814079285), ('ri ni', 0.7129860520362854), ('ri ne', 0.6914221048355103), ('ri nin', 0.667730450630188), ('le riy', 0.6645482182502747), ('rin den', 0.6493914127349854), ('rin de', 0.595539927482605), ('riy le', 0.5305780172348022), ('me le', 0.502592921257019)]\n",
      "-------------------\n",
      "Most similar 3-gram words of 'le ri ni': \n",
      "[('le ri nin', 0.673933744430542), ('le ri ne', 0.6614874601364136), ('le ri dir', 0.564606785774231), ('le riy le', 0.5148169994354248), ('et me le', 0.4556577503681183), ('nim le ri', 0.4555213451385498), ('de yis le', 0.43083158135414124), ('la ri ni', 0.42902255058288574), ('ki siy la', 0.4262683391571045), ('ku le ri', 0.4151725769042969)]\n",
      "-------------------\n"
     ]
    }
   ],
   "source": [
    "#call tests of most similar\n",
    "test_most_similar_unigram()\n",
    "print(\"-------------------\")\n",
    "test_most_similar_twogram()\n",
    "print(\"-------------------\")\n",
    "test_most_similar_threegram()\n",
    "print(\"-------------------\")"
   ]
  },
  {
   "cell_type": "code",
   "execution_count": 18,
   "metadata": {},
   "outputs": [
    {
     "name": "stdout",
     "output_type": "stream",
     "text": [
      "Similarity between 'ri' and 'rin' for 1-gram words: \n",
      "0.46499738\n",
      "Similarity between 'ni' and 'nin' for 1-gram words: \n",
      "0.5558649\n",
      "-------------------\n",
      "Similarity between 'le ri' and 'le rin' for 2-gram words: \n",
      "0.7796776\n",
      "Similarity between 'la ri' and 'la rin' for 2-gram words: \n",
      "0.79042023\n",
      "-------------------\n",
      "Similarity between 'le ri ni' and 'le ri nin' for 3-gram words: \n",
      "0.6739337\n",
      "Similarity between 'la ri ni' and 'la ri nin' for 3-gram words: \n",
      "0.6962771\n",
      "-------------------\n"
     ]
    }
   ],
   "source": [
    "#call tests of morphlogy analogy\n",
    "test_morf_analogy_unigram()\n",
    "print(\"-------------------\")\n",
    "test_morf_analogy_twogram()\n",
    "print(\"-------------------\")\n",
    "test_morf_analogy_threegram()\n",
    "print(\"-------------------\")"
   ]
  },
  {
   "cell_type": "code",
   "execution_count": null,
   "metadata": {},
   "outputs": [],
   "source": []
  }
 ],
 "metadata": {
  "kernelspec": {
   "display_name": "base",
   "language": "python",
   "name": "python3"
  },
  "language_info": {
   "codemirror_mode": {
    "name": "ipython",
    "version": 3
   },
   "file_extension": ".py",
   "mimetype": "text/x-python",
   "name": "python",
   "nbconvert_exporter": "python",
   "pygments_lexer": "ipython3",
   "version": "3.7.6"
  },
  "vscode": {
   "interpreter": {
    "hash": "ad2bdc8ecc057115af97d19610ffacc2b4e99fae6737bb82f5d7fb13d2f2c186"
   }
  }
 },
 "nbformat": 4,
 "nbformat_minor": 4
}
